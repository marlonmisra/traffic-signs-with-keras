{
 "cells": [
  {
   "cell_type": "markdown",
   "metadata": {},
   "source": [
    "# Traffic Sign Classification with Keras\n",
    "\n",
    "Keras exists to make coding deep neural networks simpler. To demonstrate just how easy it is, you’re going to use Keras to build a convolutional neural network in a few dozen lines of code.\n",
    "\n",
    "You’ll be connecting the concepts from the previous lessons to the methods that Keras provides."
   ]
  },
  {
   "cell_type": "markdown",
   "metadata": {},
   "source": [
    "## Dataset\n",
    "\n",
    "The network you'll build with Keras is similar to the example that you can find in Keras’s GitHub repository that builds out a [convolutional neural network for MNIST](https://github.com/fchollet/keras/blob/master/examples/mnist_cnn.py). \n",
    "\n",
    "However, instead of using the [MNIST](http://yann.lecun.com/exdb/mnist/) dataset, you're going to use the [German Traffic Sign Recognition Benchmark](http://benchmark.ini.rub.de/?section=gtsrb&subsection=news) dataset that you've used previously.\n",
    "\n",
    "You can download pickle files with sanitized traffic sign data here."
   ]
  },
  {
   "cell_type": "markdown",
   "metadata": {},
   "source": [
    "## Overview\n",
    "\n",
    "Here are the steps you'll take to build the network:\n",
    "\n",
    "1. First load the training data and do a train/validation split.\n",
    "2. Preprocess data.\n",
    "3. Build a feedforward neural network to classify traffic signs.\n",
    "4. Build a convolutional neural network to classify traffic signs.\n",
    "5. Evaluate performance of final neural network on testing data.\n",
    "\n",
    "Keep an eye on the network’s accuracy over time. Once the accuracy reaches the 98% range, you can be confident that you’ve built and trained an effective model."
   ]
  },
  {
   "cell_type": "code",
   "execution_count": 240,
   "metadata": {
    "collapsed": false
   },
   "outputs": [],
   "source": [
    "import pickle\n",
    "import numpy as np\n",
    "from sklearn.model_selection import train_test_split\n",
    "import math\n"
   ]
  },
  {
   "cell_type": "markdown",
   "metadata": {},
   "source": [
    "## Load the Data\n",
    "\n",
    "Start by importing the data from the pickle file."
   ]
  },
  {
   "cell_type": "code",
   "execution_count": 241,
   "metadata": {
    "collapsed": false
   },
   "outputs": [],
   "source": [
    "with open('train.p', 'rb') as f:\n",
    "    data = pickle.load(f)"
   ]
  },
  {
   "cell_type": "markdown",
   "metadata": {},
   "source": [
    "## Validate the Network\n",
    "Split the training data into a training and validation set.\n",
    "\n",
    "Measure the [validation accuracy](https://keras.io/models/sequential/) of the network after two training epochs.\n",
    "\n",
    "Hint: [Use the `train_test_split()` method](http://scikit-learn.org/stable/modules/generated/sklearn.model_selection.train_test_split.html) from scikit-learn."
   ]
  },
  {
   "cell_type": "code",
   "execution_count": 242,
   "metadata": {
    "collapsed": false
   },
   "outputs": [],
   "source": [
    "from sklearn.model_selection import train_test_split\n",
    "\n",
    "X_train, X_val, y_train, y_val = train_test_split(data['features'], data['labels'], random_state=0, test_size=0.33)\n"
   ]
  },
  {
   "cell_type": "code",
   "execution_count": 243,
   "metadata": {
    "collapsed": false
   },
   "outputs": [],
   "source": [
    "# STOP: Do not change the tests below. Your implementation should pass these tests. \n",
    "assert(X_train.shape[0] == y_train.shape[0]), \"The number of images is not equal to the number of labels.\"\n",
    "assert(X_train.shape[1:] == (32,32,3)), \"The dimensions of the images are not 32 x 32 x 3.\"\n",
    "assert(X_val.shape[0] == y_val.shape[0]), \"The number of images is not equal to the number of labels.\"\n",
    "assert(X_val.shape[1:] == (32,32,3)), \"The dimensions of the images are not 32 x 32 x 3.\""
   ]
  },
  {
   "cell_type": "markdown",
   "metadata": {},
   "source": [
    "## Preprocess the Data\n",
    "\n",
    "Now that you've loaded the training data, preprocess the data such that it's in the range between -0.5 and 0.5."
   ]
  },
  {
   "cell_type": "code",
   "execution_count": 244,
   "metadata": {
    "collapsed": false
   },
   "outputs": [],
   "source": [
    "X_train = X_train.astype('float32')\n",
    "X_val = X_val.astype('float32')\n",
    "X_train = X_train / 255.0 - 0.5\n",
    "X_val = X_val / 255.0 - 0.5"
   ]
  },
  {
   "cell_type": "code",
   "execution_count": 245,
   "metadata": {
    "collapsed": false
   },
   "outputs": [],
   "source": [
    "# STOP: Do not change the tests below. Your implementation should pass these tests. \n",
    "assert(math.isclose(np.min(X_train), -0.5, abs_tol=1e-5) and math.isclose(np.max(X_train), 0.5, abs_tol=1e-5)), \"The range of the training data is: %.1f to %.1f\" % (np.min(X_train), np.max(X_train))\n",
    "assert(math.isclose(np.min(X_val), -0.5, abs_tol=1e-5) and math.isclose(np.max(X_val), 0.5, abs_tol=1e-5)), \"The range of the validation data is: %.1f to %.1f\" % (np.min(X_val), np.max(X_val))"
   ]
  },
  {
   "cell_type": "markdown",
   "metadata": {},
   "source": [
    "## Build a Two-Layer Feedfoward Network\n",
    "\n",
    "The code you've written so far is for data processing, not specific to Keras. Here you're going to build Keras-specific code.\n",
    "\n",
    "Build a two-layer feedforward neural network, with 128 neurons in the fully-connected hidden layer. \n",
    "\n",
    "To get started, review the Keras documentation about [models](https://keras.io/models/sequential/) and [layers](https://keras.io/layers/core/).\n",
    "\n",
    "The Keras example of a [Multi-Layer Perceptron](https://github.com/fchollet/keras/blob/master/examples/mnist_mlp.py) network is similar to what you need to do here. Use that as a guide, but keep in mind that there are a number of differences."
   ]
  },
  {
   "cell_type": "code",
   "execution_count": 246,
   "metadata": {
    "collapsed": false
   },
   "outputs": [],
   "source": [
    "# TODO: Build a two-layer feedforward neural network with Keras here.\n",
    "from keras.models import Sequential\n",
    "from keras.layers import Dense, Input, Activation\n",
    "\n",
    "model = Sequential()\n",
    "model.add(Dense(128, activation='relu', input_shape=(32*32*3,)))\n",
    "model.add(Dense(43, activation='softmax'))"
   ]
  },
  {
   "cell_type": "code",
   "execution_count": 247,
   "metadata": {
    "collapsed": false
   },
   "outputs": [],
   "source": [
    "# STOP: Do not change the tests below. Your implementation should pass these tests.\n",
    "dense_layers = []\n",
    "for l in model.layers:\n",
    "    if type(l) == Dense:\n",
    "        dense_layers.append(l)\n",
    "assert(len(dense_layers) == 2), \"There should be 2 Dense layers.\"\n",
    "d1 = dense_layers[0]\n",
    "d2 = dense_layers[1]\n",
    "assert(d1.input_shape == (None, 3072))\n",
    "assert(d1.output_shape == (None, 128))\n",
    "assert(d2.input_shape == (None, 128))\n",
    "assert(d2.output_shape == (None, 43))\n",
    "\n",
    "last_layer = model.layers[-1]\n",
    "assert(last_layer.activation.__name__ == 'softmax'), \"Last layer should be softmax activation, is {}.\".format(last_layer.activation.__name__)"
   ]
  },
  {
   "cell_type": "code",
   "execution_count": 248,
   "metadata": {
    "collapsed": false
   },
   "outputs": [
    {
     "name": "stdout",
     "output_type": "stream",
     "text": [
      "dense_39 (None, 3072) (None, 128) <function relu at 0x144617950>\n",
      "dense_40 (None, 128) (None, 43) <function softmax at 0x144617730>\n"
     ]
    }
   ],
   "source": [
    "# Debugging\n",
    "for l in model.layers:\n",
    "    print(l.name, l.input_shape, l.output_shape, l.activation)"
   ]
  },
  {
   "cell_type": "markdown",
   "metadata": {},
   "source": [
    "## Train the Network\n",
    "Compile and train the network for 2 epochs. [Use the `adam` optimizer, with `categorical_crossentropy` loss.](https://keras.io/models/sequential/)\n",
    "\n",
    "Hint 1: In order to use categorical cross entropy, you will need to [one-hot encode the labels](https://github.com/fchollet/keras/blob/master/keras/utils/np_utils.py).\n",
    "\n",
    "Hint 2: In order to pass the input images to the fully-connected hidden layer, you will need to [reshape the input](https://github.com/fchollet/keras/blob/master/examples/mnist_mlp.py).\n",
    "\n",
    "Hint 3: Keras's `.fit()` method returns a `History.history` object, which the tests below use. Save that to a variable named `history`."
   ]
  },
  {
   "cell_type": "code",
   "execution_count": 249,
   "metadata": {
    "collapsed": false
   },
   "outputs": [
    {
     "name": "stdout",
     "output_type": "stream",
     "text": [
      "____________________________________________________________________________________________________\n",
      "Layer (type)                     Output Shape          Param #     Connected to                     \n",
      "====================================================================================================\n",
      "dense_39 (Dense)                 (None, 128)           393344      dense_input_29[0][0]             \n",
      "____________________________________________________________________________________________________\n",
      "dense_40 (Dense)                 (None, 43)            5547        dense_39[0][0]                   \n",
      "====================================================================================================\n",
      "Total params: 398891\n",
      "____________________________________________________________________________________________________\n",
      "Train on 26270 samples, validate on 12939 samples\n",
      "Epoch 1/20\n",
      "26270/26270 [==============================] - 3s - loss: 1.8935 - acc: 0.5104 - val_loss: 1.1476 - val_acc: 0.6849\n",
      "Epoch 2/20\n",
      "26270/26270 [==============================] - 3s - loss: 0.9281 - acc: 0.7598 - val_loss: 0.7406 - val_acc: 0.8236\n",
      "Epoch 3/20\n",
      "26270/26270 [==============================] - 3s - loss: 0.6634 - acc: 0.8293 - val_loss: 0.6561 - val_acc: 0.8420\n",
      "Epoch 4/20\n",
      "26270/26270 [==============================] - 3s - loss: 0.5573 - acc: 0.8565 - val_loss: 0.5679 - val_acc: 0.8375\n",
      "Epoch 5/20\n",
      "26270/26270 [==============================] - 3s - loss: 0.4443 - acc: 0.8877 - val_loss: 0.4635 - val_acc: 0.8679\n",
      "Epoch 6/20\n",
      "26270/26270 [==============================] - 3s - loss: 0.3936 - acc: 0.8982 - val_loss: 0.4311 - val_acc: 0.8700\n",
      "Epoch 7/20\n",
      "26270/26270 [==============================] - 3s - loss: 0.3497 - acc: 0.9095 - val_loss: 0.4481 - val_acc: 0.8639\n",
      "Epoch 8/20\n",
      "26270/26270 [==============================] - 3s - loss: 0.3092 - acc: 0.9207 - val_loss: 0.3426 - val_acc: 0.9073\n",
      "Epoch 9/20\n",
      "26270/26270 [==============================] - 3s - loss: 0.2827 - acc: 0.9282 - val_loss: 0.3876 - val_acc: 0.8940\n",
      "Epoch 10/20\n",
      "26270/26270 [==============================] - 3s - loss: 0.2677 - acc: 0.9306 - val_loss: 0.3328 - val_acc: 0.9022\n",
      "Epoch 11/20\n",
      "26270/26270 [==============================] - 3s - loss: 0.2508 - acc: 0.9338 - val_loss: 0.3957 - val_acc: 0.8920\n",
      "Epoch 12/20\n",
      "26270/26270 [==============================] - 3s - loss: 0.2474 - acc: 0.9340 - val_loss: 0.2831 - val_acc: 0.9298\n",
      "Epoch 13/20\n",
      "26270/26270 [==============================] - 3s - loss: 0.2128 - acc: 0.9445 - val_loss: 0.2466 - val_acc: 0.9396\n",
      "Epoch 14/20\n",
      "26270/26270 [==============================] - 3s - loss: 0.2176 - acc: 0.9403 - val_loss: 0.3103 - val_acc: 0.9090\n",
      "Epoch 15/20\n",
      "26270/26270 [==============================] - 3s - loss: 0.2087 - acc: 0.9438 - val_loss: 0.2879 - val_acc: 0.9175\n",
      "Epoch 16/20\n",
      "26270/26270 [==============================] - 3s - loss: 0.2094 - acc: 0.9410 - val_loss: 0.2724 - val_acc: 0.9285\n",
      "Epoch 17/20\n",
      "26270/26270 [==============================] - 3s - loss: 0.1745 - acc: 0.9541 - val_loss: 0.3038 - val_acc: 0.9143\n",
      "Epoch 18/20\n",
      "26270/26270 [==============================] - 3s - loss: 0.1668 - acc: 0.9558 - val_loss: 0.2574 - val_acc: 0.9297\n",
      "Epoch 19/20\n",
      "26270/26270 [==============================] - 3s - loss: 0.1713 - acc: 0.9534 - val_loss: 0.3098 - val_acc: 0.9124\n",
      "Epoch 20/20\n",
      "26270/26270 [==============================] - 3s - loss: 0.1597 - acc: 0.9566 - val_loss: 0.3221 - val_acc: 0.9139\n"
     ]
    }
   ],
   "source": [
    "from keras.utils import np_utils\n",
    "\n",
    "Y_train = np_utils.to_categorical(y_train, 43)\n",
    "Y_val = np_utils.to_categorical(y_val, 43)\n",
    "\n",
    "X_train_flat = X_train.reshape(-1, 32*32*3)\n",
    "X_val_flat = X_val.reshape(-1, 32*32*3)\n",
    "\n",
    "model.summary()\n",
    "\n",
    "model.compile(loss='categorical_crossentropy',\n",
    "              optimizer='adam',\n",
    "              metrics=['accuracy'])\n",
    "history = model.fit(X_train_flat, Y_train,\n",
    "                    batch_size=128, nb_epoch=20,\n",
    "                    verbose=1, validation_data=(X_val_flat, Y_val))"
   ]
  },
  {
   "cell_type": "code",
   "execution_count": 319,
   "metadata": {
    "collapsed": false
   },
   "outputs": [],
   "source": [
    "# STOP: Do not change the tests below. Your implementation should pass these tests.\n",
    "#assert(history.history['acc'][-1] > 0.92), \"The training accuracy was: %.3f\" % history.history['acc'][-1])\n",
    "#assert(history.history['val_acc'][-1] > 0.9), \"The validation accuracy is: %.3f\" % history.history['val_acc'][-1])"
   ]
  },
  {
   "cell_type": "markdown",
   "metadata": {},
   "source": [
    "**Validation Accuracy**: 91.4%"
   ]
  },
  {
   "cell_type": "markdown",
   "metadata": {},
   "source": [
    "## Congratulations\n",
    "You've built a feedforward neural network in Keras!\n",
    "\n",
    "Don't stop here! Next, you'll add a convolutional layer to drive.py."
   ]
  },
  {
   "cell_type": "markdown",
   "metadata": {},
   "source": [
    "## Convolutions\n",
    "Build a new network, similar to your existing network. Before the hidden layer, add a 3x3 [convolutional layer](https://keras.io/layers/convolutional/#convolution2d) with 32 filters and valid padding.\n",
    "\n",
    "Then compile and train the network.\n",
    "\n",
    "Hint 1: The Keras example of a [convolutional neural network](https://github.com/fchollet/keras/blob/master/examples/mnist_cnn.py) for MNIST would be a good example to review.\n",
    "\n",
    "Hint 2: Now that the first layer of the network is a convolutional layer, you no longer need to reshape the input images before passing them to the network. You might need to reload your training data to recover the original shape.\n",
    "\n",
    "Hint 3: Add a [`Flatten()` layer](https://keras.io/layers/core/#flatten) between the convolutional layer and the fully-connected hidden layer."
   ]
  },
  {
   "cell_type": "code",
   "execution_count": 267,
   "metadata": {
    "collapsed": false
   },
   "outputs": [
    {
     "name": "stdout",
     "output_type": "stream",
     "text": [
      "Train on 26270 samples, validate on 12939 samples\n",
      "Epoch 1/20\n",
      "26270/26270 [==============================] - 37s - loss: 0.9961 - acc: 0.7449 - val_loss: 0.3704 - val_acc: 0.9094\n",
      "Epoch 2/20\n",
      "26270/26270 [==============================] - 36s - loss: 0.2436 - acc: 0.9407 - val_loss: 0.2293 - val_acc: 0.9450\n",
      "Epoch 3/20\n",
      "26270/26270 [==============================] - 35s - loss: 0.1301 - acc: 0.9676 - val_loss: 0.2188 - val_acc: 0.9466\n",
      "Epoch 4/20\n",
      "26270/26270 [==============================] - 32s - loss: 0.0898 - acc: 0.9774 - val_loss: 0.2008 - val_acc: 0.9498\n",
      "Epoch 5/20\n",
      "26270/26270 [==============================] - 32s - loss: 0.0652 - acc: 0.9834 - val_loss: 0.2053 - val_acc: 0.9519\n",
      "Epoch 6/20\n",
      "26270/26270 [==============================] - 35s - loss: 0.0432 - acc: 0.9891 - val_loss: 0.1824 - val_acc: 0.9593\n",
      "Epoch 7/20\n",
      "26270/26270 [==============================] - 34s - loss: 0.0460 - acc: 0.9887 - val_loss: 0.2215 - val_acc: 0.9539\n",
      "Epoch 8/20\n",
      "26270/26270 [==============================] - 34s - loss: 0.0553 - acc: 0.9856 - val_loss: 0.2089 - val_acc: 0.9580\n",
      "Epoch 9/20\n",
      "26270/26270 [==============================] - 34s - loss: 0.0361 - acc: 0.9909 - val_loss: 0.2091 - val_acc: 0.9580\n",
      "Epoch 10/20\n",
      "26270/26270 [==============================] - 34s - loss: 0.0419 - acc: 0.9893 - val_loss: 0.2394 - val_acc: 0.9561\n",
      "Epoch 11/20\n",
      "26270/26270 [==============================] - 34s - loss: 0.0422 - acc: 0.9884 - val_loss: 0.2226 - val_acc: 0.9582\n",
      "Epoch 12/20\n",
      "26270/26270 [==============================] - 36s - loss: 0.0180 - acc: 0.9955 - val_loss: 0.1986 - val_acc: 0.9655\n",
      "Epoch 13/20\n",
      "26270/26270 [==============================] - 36s - loss: 0.0163 - acc: 0.9968 - val_loss: 0.1930 - val_acc: 0.9670\n",
      "Epoch 14/20\n",
      "26270/26270 [==============================] - 36s - loss: 0.0118 - acc: 0.9979 - val_loss: 0.1965 - val_acc: 0.9676\n",
      "Epoch 15/20\n",
      "26270/26270 [==============================] - 35s - loss: 0.0126 - acc: 0.9969 - val_loss: 0.2085 - val_acc: 0.9657\n",
      "Epoch 16/20\n",
      "26270/26270 [==============================] - 35s - loss: 0.0315 - acc: 0.9914 - val_loss: 0.2989 - val_acc: 0.9517\n",
      "Epoch 17/20\n",
      "26270/26270 [==============================] - 37s - loss: 0.0732 - acc: 0.9814 - val_loss: 0.3526 - val_acc: 0.9420\n",
      "Epoch 18/20\n",
      "26270/26270 [==============================] - 35s - loss: 0.0541 - acc: 0.9856 - val_loss: 0.2760 - val_acc: 0.9578\n",
      "Epoch 19/20\n",
      "26270/26270 [==============================] - 34s - loss: 0.0213 - acc: 0.9942 - val_loss: 0.2217 - val_acc: 0.9670\n",
      "Epoch 20/20\n",
      "26270/26270 [==============================] - 35s - loss: 0.0101 - acc: 0.9976 - val_loss: 0.2217 - val_acc: 0.9675\n"
     ]
    }
   ],
   "source": [
    "from keras.layers import Convolution2D, Flatten\n",
    "\n",
    "model2 = Sequential()\n",
    "model2.add(Convolution2D(32, 3, 3, border_mode='valid', input_shape=(32, 32, 3))) #outputs (32,32,32)\n",
    "model2.add(Flatten()) # flattens dimensions to 32*32*32 or 32768\n",
    "model2.add(Dense(128, activation='relu', input_shape=(32768,)))\n",
    "model2.add(Dense(43, activation='softmax'))\n",
    "\n",
    "model2.compile(loss='categorical_crossentropy',\n",
    "              optimizer='adam',\n",
    "              metrics=['accuracy'])\n",
    "\n",
    "history = model2.fit(X_train, Y_train,\n",
    "                    batch_size=128, nb_epoch=20,\n",
    "                    verbose=1, validation_data=(X_val, Y_val))"
   ]
  },
  {
   "cell_type": "code",
   "execution_count": 317,
   "metadata": {
    "collapsed": false
   },
   "outputs": [],
   "source": [
    "# STOP: Do not change the tests below. Your implementation should pass these tests.\n",
    "assert(history.history['val_acc'][-1] > 0.95), \"The validation accuracy is: %.3f\" % history.history['val_acc'][-1]"
   ]
  },
  {
   "cell_type": "markdown",
   "metadata": {},
   "source": [
    "**Validation Accuracy**: 96.7%"
   ]
  },
  {
   "cell_type": "markdown",
   "metadata": {},
   "source": [
    "## Pooling\n",
    "Re-construct your network and add a 2x2 [pooling layer](https://keras.io/layers/pooling/#maxpooling2d) immediately following your convolutional layer.\n",
    "\n",
    "Then compile and train the network."
   ]
  },
  {
   "cell_type": "code",
   "execution_count": 310,
   "metadata": {
    "collapsed": false
   },
   "outputs": [
    {
     "name": "stdout",
     "output_type": "stream",
     "text": [
      "Train on 26270 samples, validate on 12939 samples\n",
      "Epoch 1/20\n",
      "26270/26270 [==============================] - 23s - loss: 1.4285 - acc: 0.6271 - val_loss: 0.5587 - val_acc: 0.8611\n",
      "Epoch 2/20\n",
      "26270/26270 [==============================] - 23s - loss: 0.3601 - acc: 0.9140 - val_loss: 0.2807 - val_acc: 0.9356\n",
      "Epoch 3/20\n",
      "26270/26270 [==============================] - 22s - loss: 0.1861 - acc: 0.9600 - val_loss: 0.2024 - val_acc: 0.9536\n",
      "Epoch 4/20\n",
      "26270/26270 [==============================] - 21s - loss: 0.1264 - acc: 0.9708 - val_loss: 0.1780 - val_acc: 0.9593\n",
      "Epoch 5/20\n",
      "26270/26270 [==============================] - 22s - loss: 0.0848 - acc: 0.9828 - val_loss: 0.1567 - val_acc: 0.9672\n",
      "Epoch 6/20\n",
      "26270/26270 [==============================] - 22s - loss: 0.0598 - acc: 0.9891 - val_loss: 0.1472 - val_acc: 0.9692\n",
      "Epoch 7/20\n",
      "26270/26270 [==============================] - 23s - loss: 0.0460 - acc: 0.9917 - val_loss: 0.1618 - val_acc: 0.9662\n",
      "Epoch 8/20\n",
      "26270/26270 [==============================] - 23s - loss: 0.0447 - acc: 0.9911 - val_loss: 0.1336 - val_acc: 0.9704\n",
      "Epoch 9/20\n",
      "26270/26270 [==============================] - 22s - loss: 0.0261 - acc: 0.9960 - val_loss: 0.1292 - val_acc: 0.9736\n",
      "Epoch 10/20\n",
      "26270/26270 [==============================] - 22s - loss: 0.0208 - acc: 0.9972 - val_loss: 0.1203 - val_acc: 0.9774\n",
      "Epoch 11/20\n",
      "26270/26270 [==============================] - 23s - loss: 0.0563 - acc: 0.9867 - val_loss: 0.2385 - val_acc: 0.9478\n",
      "Epoch 12/20\n",
      "26270/26270 [==============================] - 22s - loss: 0.0441 - acc: 0.9890 - val_loss: 0.1514 - val_acc: 0.9691\n",
      "Epoch 13/20\n",
      "26270/26270 [==============================] - 22s - loss: 0.0227 - acc: 0.9953 - val_loss: 0.1315 - val_acc: 0.9733\n",
      "Epoch 14/20\n",
      "26270/26270 [==============================] - 23s - loss: 0.0119 - acc: 0.9984 - val_loss: 0.1317 - val_acc: 0.9759\n",
      "Epoch 15/20\n",
      "26270/26270 [==============================] - 22s - loss: 0.0119 - acc: 0.9980 - val_loss: 0.1182 - val_acc: 0.9786\n",
      "Epoch 16/20\n",
      "26270/26270 [==============================] - 23s - loss: 0.0070 - acc: 0.9995 - val_loss: 0.1150 - val_acc: 0.9798\n",
      "Epoch 17/20\n",
      "26270/26270 [==============================] - 23s - loss: 0.0056 - acc: 0.9996 - val_loss: 0.1181 - val_acc: 0.9789\n",
      "Epoch 18/20\n",
      "26270/26270 [==============================] - 23s - loss: 0.0050 - acc: 0.9997 - val_loss: 0.1182 - val_acc: 0.9797\n",
      "Epoch 19/20\n",
      "26270/26270 [==============================] - 22s - loss: 0.0041 - acc: 0.9998 - val_loss: 0.1200 - val_acc: 0.9784\n",
      "Epoch 20/20\n",
      "26270/26270 [==============================] - 22s - loss: 0.0039 - acc: 0.9999 - val_loss: 0.1217 - val_acc: 0.9795\n"
     ]
    }
   ],
   "source": [
    "from keras.layers.pooling import MaxPooling2D #2d for spatial data\n",
    "\n",
    "model3 = Sequential()\n",
    "model3.add(Convolution2D(32, 3, 3, border_mode = 'valid', input_shape=(32, 32, 3))) #output shape None, 30, 30, 32\n",
    "model3.add(MaxPooling2D(pool_size = (2,2))) # None, 15, 15, 32\n",
    "model3.add(Flatten()) # None, 7200\n",
    "model3.add(Dense(128, activation='relu')) # None, 128\n",
    "model3.add(Dense(43, activation='softmax')) # None, 43\n",
    "\n",
    "model3.compile(loss='categorical_crossentropy',\n",
    "              optimizer='adam',\n",
    "              metrics=['accuracy'])\n",
    "\n",
    "history = model3.fit(X_train, Y_train,\n",
    "                    batch_size=128, nb_epoch=20,\n",
    "                    verbose=1, validation_data=(X_val, Y_val))\n",
    "\n",
    "\n"
   ]
  },
  {
   "cell_type": "code",
   "execution_count": 316,
   "metadata": {
    "collapsed": false
   },
   "outputs": [],
   "source": [
    "# STOP: Do not change the tests below. Your implementation should pass these tests.\n",
    "assert(history.history['val_acc'][-1] > 0.95), \"The validation accuracy is: %.3f\" % history.history['val_acc'][-1]"
   ]
  },
  {
   "cell_type": "markdown",
   "metadata": {},
   "source": [
    "**Validation Accuracy**: 98.0%"
   ]
  },
  {
   "cell_type": "markdown",
   "metadata": {},
   "source": [
    "## Dropout\n",
    "Re-construct your network and add [dropout](https://keras.io/layers/core/#dropout) after the pooling layer. Set the dropout rate to 50%."
   ]
  },
  {
   "cell_type": "code",
   "execution_count": 334,
   "metadata": {
    "collapsed": false
   },
   "outputs": [
    {
     "name": "stdout",
     "output_type": "stream",
     "text": [
      "Train on 26270 samples, validate on 12939 samples\n",
      "Epoch 1/20\n",
      "26270/26270 [==============================] - 30s - loss: 1.7513 - acc: 0.5413 - val_loss: 0.7977 - val_acc: 0.7989\n",
      "Epoch 2/20\n",
      "26270/26270 [==============================] - 26s - loss: 0.5956 - acc: 0.8428 - val_loss: 0.4022 - val_acc: 0.9080\n",
      "Epoch 3/20\n",
      "26270/26270 [==============================] - 26s - loss: 0.3586 - acc: 0.9075 - val_loss: 0.2885 - val_acc: 0.9291\n",
      "Epoch 4/20\n",
      "26270/26270 [==============================] - 29s - loss: 0.2595 - acc: 0.9330 - val_loss: 0.2056 - val_acc: 0.9537\n",
      "Epoch 5/20\n",
      "26270/26270 [==============================] - 28s - loss: 0.2099 - acc: 0.9453 - val_loss: 0.1853 - val_acc: 0.9536\n",
      "Epoch 6/20\n",
      "26270/26270 [==============================] - 27s - loss: 0.1705 - acc: 0.9566 - val_loss: 0.1616 - val_acc: 0.9621\n",
      "Epoch 7/20\n",
      "26270/26270 [==============================] - 28s - loss: 0.1506 - acc: 0.9612 - val_loss: 0.1399 - val_acc: 0.9711\n",
      "Epoch 8/20\n",
      "26270/26270 [==============================] - 27s - loss: 0.1389 - acc: 0.9630 - val_loss: 0.1329 - val_acc: 0.9701\n",
      "Epoch 9/20\n",
      "26270/26270 [==============================] - 29s - loss: 0.1189 - acc: 0.9684 - val_loss: 0.1311 - val_acc: 0.9704\n",
      "Epoch 10/20\n",
      "26270/26270 [==============================] - 27s - loss: 0.1023 - acc: 0.9716 - val_loss: 0.1320 - val_acc: 0.9675\n",
      "Epoch 11/20\n",
      "26270/26270 [==============================] - 28s - loss: 0.0957 - acc: 0.9738 - val_loss: 0.1116 - val_acc: 0.9771\n",
      "Epoch 12/20\n",
      "26270/26270 [==============================] - 27s - loss: 0.0932 - acc: 0.9751 - val_loss: 0.1077 - val_acc: 0.9779\n",
      "Epoch 13/20\n",
      "26270/26270 [==============================] - 27s - loss: 0.0834 - acc: 0.9770 - val_loss: 0.1117 - val_acc: 0.9750\n",
      "Epoch 14/20\n",
      "26270/26270 [==============================] - 27s - loss: 0.0838 - acc: 0.9766 - val_loss: 0.1109 - val_acc: 0.9769\n",
      "Epoch 15/20\n",
      "26270/26270 [==============================] - 28s - loss: 0.0796 - acc: 0.9778 - val_loss: 0.1125 - val_acc: 0.9728\n",
      "Epoch 16/20\n",
      "26270/26270 [==============================] - 27s - loss: 0.0769 - acc: 0.9784 - val_loss: 0.0897 - val_acc: 0.9811\n",
      "Epoch 17/20\n",
      "26270/26270 [==============================] - 28s - loss: 0.0669 - acc: 0.9809 - val_loss: 0.1006 - val_acc: 0.9791\n",
      "Epoch 18/20\n",
      "26270/26270 [==============================] - 27s - loss: 0.0657 - acc: 0.9815 - val_loss: 0.0926 - val_acc: 0.9804\n",
      "Epoch 19/20\n",
      "26270/26270 [==============================] - 27s - loss: 0.0632 - acc: 0.9817 - val_loss: 0.0954 - val_acc: 0.9798\n",
      "Epoch 20/20\n",
      "26270/26270 [==============================] - 28s - loss: 0.0609 - acc: 0.9815 - val_loss: 0.0947 - val_acc: 0.9794\n"
     ]
    }
   ],
   "source": [
    "from keras.layers.core import Dropout\n",
    "\n",
    "model4 = Sequential()\n",
    "model4.add(Convolution2D(32, 3, 3, border_mode = 'valid', input_shape=(32, 32, 3))) #output shape None, 30, 30, 32\n",
    "model4.add(MaxPooling2D(pool_size = (2,2))) # None, 15, 15, 32\n",
    "model4.add(Dropout(p=0.5)) #None, 15, 15, 32 \n",
    "model4.add(Activation('relu')) # None, 15, 15, 32\n",
    "model4.add(Flatten()) # None, 7200\n",
    "model4.add(Dense(128, activation='relu')) # None, 128\n",
    "model4.add(Dense(43, activation='softmax')) # None, 43\n",
    "\n",
    "model4.compile(loss='categorical_crossentropy',\n",
    "              optimizer='adam',\n",
    "              metrics=['accuracy'])\n",
    "\n",
    "history = model4.fit(X_train, Y_train,\n",
    "                    batch_size=128, nb_epoch=20,\n",
    "                    verbose=1, validation_data=(X_val, Y_val))"
   ]
  },
  {
   "cell_type": "code",
   "execution_count": 336,
   "metadata": {
    "collapsed": false
   },
   "outputs": [],
   "source": [
    "# STOP: Do not change the tests below. Your implementation should pass these tests.\n",
    "assert(history.history['val_acc'][-1] > 0.95), \"The validation accuracy is: %.3f\" % history.history['val_acc'][-1]"
   ]
  },
  {
   "cell_type": "markdown",
   "metadata": {
    "collapsed": true
   },
   "source": [
    "**Validation Accuracy**: 97.9%"
   ]
  },
  {
   "cell_type": "markdown",
   "metadata": {},
   "source": [
    "## Testing\n",
    "Once you've picked out your best model, it's time to test it.\n",
    "\n",
    "Load up the test data and use the [`evaluate()` method](https://keras.io/models/model/#evaluate) to see how well it does.\n",
    "\n",
    "Hint 1: The `evaluate()` method should return an array of numbers. Use the `metrics_names()` method to get the labels."
   ]
  },
  {
   "cell_type": "code",
   "execution_count": 344,
   "metadata": {
    "collapsed": false
   },
   "outputs": [
    {
     "name": "stdout",
     "output_type": "stream",
     "text": [
      "12630/12630 [==============================] - 4s     \n"
     ]
    },
    {
     "data": {
      "text/plain": [
       "[0.48976742956058805, 0.90894695169285755]"
      ]
     },
     "execution_count": 344,
     "metadata": {},
     "output_type": "execute_result"
    }
   ],
   "source": [
    "#read data\n",
    "with open('test.p', 'rb') as f:\n",
    "    test = pickle.load(f)\n",
    "\n",
    "#split data\n",
    "X_test = test['features']\n",
    "y_test = test['labels']\n",
    "\n",
    "#normalize\n",
    "X_test = X_test / 255.0 - 0.5\n",
    "\n",
    "#one hot encode\n",
    "y_test = np_utils.to_categorical(y_test, 43)\n",
    "\n",
    "#evaluate model\n",
    "model4.evaluate(X_test, y_test)\n",
    "\n"
   ]
  },
  {
   "cell_type": "markdown",
   "metadata": {},
   "source": [
    "**Testing Accuracy**: 90.8%"
   ]
  },
  {
   "cell_type": "markdown",
   "metadata": {},
   "source": [
    "## Summary\n",
    "Keras is a great tool to use if you want to quickly build a neural network and evaluate performance."
   ]
  }
 ],
 "metadata": {
  "anaconda-cloud": {},
  "kernelspec": {
   "display_name": "Python [default]",
   "language": "python",
   "name": "python3"
  },
  "language_info": {
   "codemirror_mode": {
    "name": "ipython",
    "version": 3
   },
   "file_extension": ".py",
   "mimetype": "text/x-python",
   "name": "python",
   "nbconvert_exporter": "python",
   "pygments_lexer": "ipython3",
   "version": "3.5.2"
  }
 },
 "nbformat": 4,
 "nbformat_minor": 0
}
